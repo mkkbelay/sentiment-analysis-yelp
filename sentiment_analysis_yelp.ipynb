{
 "cells": [
  {
   "cell_type": "markdown",
   "metadata": {},
   "source": [
    "# Sentiment analysis project : Should we do away with star ratings?\n",
    "\n",
    "The goal of this modeling task is to compare the effectiveness of lexicon-based sentiment analysis (i.e., text blob) to transfer learning with pre-trained models in predicting the sentiment of yelp reviews. Are these methods good enough to replace the yelp star ratings?  The dataset used for this project consists of over 600,000 yelp reviews. A random sample of 100,000 reviews will be used to compare the sentiment approximation of text-blob to transfer learning. "
   ]
  },
  {
   "cell_type": "markdown",
   "metadata": {},
   "source": [
    "## Part 1: Setup and preprocessing"
   ]
  },
  {
   "cell_type": "code",
   "execution_count": 117,
   "metadata": {},
   "outputs": [],
   "source": [
    "# import dependencies \n",
    "from textblob import TextBlob# load textblob\n",
    "from transformers import pipeline\n",
    "from plotnine import *\n",
    "import pandas as pd\n",
    "import numpy as np"
   ]
  },
  {
   "cell_type": "code",
   "execution_count": 118,
   "metadata": {},
   "outputs": [
    {
     "data": {
      "text/plain": [
       "(688329, 10)"
      ]
     },
     "execution_count": 118,
     "metadata": {},
     "output_type": "execute_result"
    }
   ],
   "source": [
    "#import data\n",
    "reviews_df = pd.read_sql_table(\"review\", \"sqlite:///yelpHotelData.db\")\n",
    "reviews_df.shape"
   ]
  },
  {
   "cell_type": "code",
   "execution_count": 119,
   "metadata": {},
   "outputs": [
    {
     "data": {
      "text/html": [
       "<div>\n",
       "<style scoped>\n",
       "    .dataframe tbody tr th:only-of-type {\n",
       "        vertical-align: middle;\n",
       "    }\n",
       "\n",
       "    .dataframe tbody tr th {\n",
       "        vertical-align: top;\n",
       "    }\n",
       "\n",
       "    .dataframe thead th {\n",
       "        text-align: right;\n",
       "    }\n",
       "</style>\n",
       "<table border=\"1\" class=\"dataframe\">\n",
       "  <thead>\n",
       "    <tr style=\"text-align: right;\">\n",
       "      <th></th>\n",
       "      <th>date</th>\n",
       "      <th>reviewID</th>\n",
       "      <th>reviewerID</th>\n",
       "      <th>reviewContent</th>\n",
       "      <th>rating</th>\n",
       "      <th>usefulCount</th>\n",
       "      <th>coolCount</th>\n",
       "      <th>funnyCount</th>\n",
       "      <th>flagged</th>\n",
       "      <th>hotelID</th>\n",
       "    </tr>\n",
       "  </thead>\n",
       "  <tbody>\n",
       "    <tr>\n",
       "      <th>468868</th>\n",
       "      <td>6/25/2012</td>\n",
       "      <td>03Vz2iat9i82xmYys2GAFg</td>\n",
       "      <td>EQqor5tO_1L8lseEhpDYPA</td>\n",
       "      <td>SOOOO much fun!!! My first ever visit to Kit K...</td>\n",
       "      <td>4</td>\n",
       "      <td>0</td>\n",
       "      <td>0</td>\n",
       "      <td>0</td>\n",
       "      <td>NR</td>\n",
       "      <td>IITu5GokSXIJC902vV_b0A</td>\n",
       "    </tr>\n",
       "    <tr>\n",
       "      <th>97953</th>\n",
       "      <td>10/3/2011</td>\n",
       "      <td>cATUpiWfKnD8Jitur4LyUw</td>\n",
       "      <td>pDfL8xt8F8ls0-kQIG_ADg</td>\n",
       "      <td>Saw these guys at OTG - Golden Gate Fields. (h...</td>\n",
       "      <td>3</td>\n",
       "      <td>9</td>\n",
       "      <td>9</td>\n",
       "      <td>8</td>\n",
       "      <td>NR</td>\n",
       "      <td>gMzmDrolKaqXW-ayQv-bfA</td>\n",
       "    </tr>\n",
       "    <tr>\n",
       "      <th>667968</th>\n",
       "      <td>11/24/2009</td>\n",
       "      <td>9AvvKyngajMHdsHva60DGg</td>\n",
       "      <td>Xj0O2l0bp633ebmG468aZw</td>\n",
       "      <td>A funny little karaoke bar, with lots of early...</td>\n",
       "      <td>3</td>\n",
       "      <td>0</td>\n",
       "      <td>0</td>\n",
       "      <td>0</td>\n",
       "      <td>YR</td>\n",
       "      <td>sinxb1F7g1GEm01XSB3qCw</td>\n",
       "    </tr>\n",
       "    <tr>\n",
       "      <th>295044</th>\n",
       "      <td>4/12/2009</td>\n",
       "      <td>iJ-Hij8aFdMQMyyOOQRFVQ</td>\n",
       "      <td>fcNU65OaCj7slBJ60VSQgw</td>\n",
       "      <td>I came here to get my coupon book for adopting...</td>\n",
       "      <td>3</td>\n",
       "      <td>1</td>\n",
       "      <td>1</td>\n",
       "      <td>0</td>\n",
       "      <td>NR</td>\n",
       "      <td>EzpJKBxwFy4ikASZvMmlhA</td>\n",
       "    </tr>\n",
       "    <tr>\n",
       "      <th>213063</th>\n",
       "      <td>2/18/2007</td>\n",
       "      <td>3N5TQ83IWA_0_ySkopJBUw</td>\n",
       "      <td>P5bUL3Engv-2z6kKohB6qQ</td>\n",
       "      <td>One of those funky parking garages where you n...</td>\n",
       "      <td>4</td>\n",
       "      <td>2</td>\n",
       "      <td>1</td>\n",
       "      <td>1</td>\n",
       "      <td>NR</td>\n",
       "      <td>So-qLfvO-Q2OSfMu_HzaoA</td>\n",
       "    </tr>\n",
       "  </tbody>\n",
       "</table>\n",
       "</div>"
      ],
      "text/plain": [
       "              date                reviewID              reviewerID  \\\n",
       "468868   6/25/2012  03Vz2iat9i82xmYys2GAFg  EQqor5tO_1L8lseEhpDYPA   \n",
       "97953    10/3/2011  cATUpiWfKnD8Jitur4LyUw  pDfL8xt8F8ls0-kQIG_ADg   \n",
       "667968  11/24/2009  9AvvKyngajMHdsHva60DGg  Xj0O2l0bp633ebmG468aZw   \n",
       "295044   4/12/2009  iJ-Hij8aFdMQMyyOOQRFVQ  fcNU65OaCj7slBJ60VSQgw   \n",
       "213063   2/18/2007  3N5TQ83IWA_0_ySkopJBUw  P5bUL3Engv-2z6kKohB6qQ   \n",
       "\n",
       "                                            reviewContent  rating  \\\n",
       "468868  SOOOO much fun!!! My first ever visit to Kit K...       4   \n",
       "97953   Saw these guys at OTG - Golden Gate Fields. (h...       3   \n",
       "667968  A funny little karaoke bar, with lots of early...       3   \n",
       "295044  I came here to get my coupon book for adopting...       3   \n",
       "213063  One of those funky parking garages where you n...       4   \n",
       "\n",
       "        usefulCount  coolCount  funnyCount flagged                 hotelID  \n",
       "468868            0          0           0      NR  IITu5GokSXIJC902vV_b0A  \n",
       "97953             9          9           8      NR  gMzmDrolKaqXW-ayQv-bfA  \n",
       "667968            0          0           0      YR  sinxb1F7g1GEm01XSB3qCw  \n",
       "295044            1          1           0      NR  EzpJKBxwFy4ikASZvMmlhA  \n",
       "213063            2          1           1      NR  So-qLfvO-Q2OSfMu_HzaoA  "
      ]
     },
     "execution_count": 119,
     "metadata": {},
     "output_type": "execute_result"
    }
   ],
   "source": [
    "reviews_df.sample(5)"
   ]
  },
  {
   "cell_type": "code",
   "execution_count": 120,
   "metadata": {},
   "outputs": [
    {
     "data": {
      "text/plain": [
       "date             0\n",
       "reviewID         0\n",
       "reviewerID       0\n",
       "reviewContent    0\n",
       "rating           0\n",
       "usefulCount      0\n",
       "coolCount        0\n",
       "funnyCount       0\n",
       "flagged          0\n",
       "hotelID          0\n",
       "dtype: int64"
      ]
     },
     "execution_count": 120,
     "metadata": {},
     "output_type": "execute_result"
    }
   ],
   "source": [
    "#check for missingness\n",
    "reviews_df.isna().sum()"
   ]
  },
  {
   "cell_type": "code",
   "execution_count": 121,
   "metadata": {},
   "outputs": [
    {
     "data": {
      "text/plain": [
       "4    267027\n",
       "5    171715\n",
       "3    154637\n",
       "2     62560\n",
       "1     32390\n",
       "Name: rating, dtype: int64"
      ]
     },
     "execution_count": 121,
     "metadata": {},
     "output_type": "execute_result"
    }
   ],
   "source": [
    "# distribution of star ratings \n",
    "reviews_df.rating.value_counts()"
   ]
  },
  {
   "cell_type": "code",
   "execution_count": 122,
   "metadata": {},
   "outputs": [
    {
     "data": {
      "text/plain": [
       "<matplotlib.axes._subplots.AxesSubplot at 0x7fdaa6bb7280>"
      ]
     },
     "execution_count": 122,
     "metadata": {},
     "output_type": "execute_result"
    },
    {
     "data": {
      "image/png": "[encoded data removed]",
      "text/plain": [
       "<Figure size 432x288 with 1 Axes>"
      ]
     },
     "metadata": {
      "needs_background": "light"
     },
     "output_type": "display_data"
    }
   ],
   "source": [
    "reviews_df.rating.value_counts().plot.barh()"
   ]
  },
  {
   "cell_type": "markdown",
   "metadata": {},
   "source": [
    "Most reviews in this dataset have a positive rating (i.e,  4 and 5 star ratings). Since the data set is massive, let's take a random sample of 100,000 observations to make computation easier. Note that this will result in a loss of some information, but for our purpose of comparing the effectiveness of two sentiment analysis methods and not making any causal inferences, a random sample should suffice. \n"
   ]
  },
  {
   "cell_type": "code",
   "execution_count": 123,
   "metadata": {},
   "outputs": [
    {
     "data": {
      "text/html": [
       "<div>\n",
       "<style scoped>\n",
       "    .dataframe tbody tr th:only-of-type {\n",
       "        vertical-align: middle;\n",
       "    }\n",
       "\n",
       "    .dataframe tbody tr th {\n",
       "        vertical-align: top;\n",
       "    }\n",
       "\n",
       "    .dataframe thead th {\n",
       "        text-align: right;\n",
       "    }\n",
       "</style>\n",
       "<table border=\"1\" class=\"dataframe\">\n",
       "  <thead>\n",
       "    <tr style=\"text-align: right;\">\n",
       "      <th></th>\n",
       "      <th>date</th>\n",
       "      <th>reviewID</th>\n",
       "      <th>reviewerID</th>\n",
       "      <th>reviewContent</th>\n",
       "      <th>rating</th>\n",
       "      <th>usefulCount</th>\n",
       "      <th>coolCount</th>\n",
       "      <th>funnyCount</th>\n",
       "      <th>flagged</th>\n",
       "      <th>hotelID</th>\n",
       "    </tr>\n",
       "  </thead>\n",
       "  <tbody>\n",
       "    <tr>\n",
       "      <th>529630</th>\n",
       "      <td>7/18/2012</td>\n",
       "      <td>IcQdGFX8cr5CrH_uiVsY1Q</td>\n",
       "      <td>lUAEesLvvNUAYqqkxLFpgQ</td>\n",
       "      <td>Very huge assortment of unique burgers that we...</td>\n",
       "      <td>4</td>\n",
       "      <td>0</td>\n",
       "      <td>0</td>\n",
       "      <td>0</td>\n",
       "      <td>NR</td>\n",
       "      <td>oCTlReyKjJxKPFYfCurxxQ</td>\n",
       "    </tr>\n",
       "    <tr>\n",
       "      <th>501344</th>\n",
       "      <td>7/4/2009</td>\n",
       "      <td>5Iy4e8qOh7WVoLtJ_sC21g</td>\n",
       "      <td>53tt0Msa4UqwtU_-JppHQQ</td>\n",
       "      <td>I'd never heard of a Corner Bakery until a rec...</td>\n",
       "      <td>3</td>\n",
       "      <td>0</td>\n",
       "      <td>0</td>\n",
       "      <td>0</td>\n",
       "      <td>NR</td>\n",
       "      <td>XA-Mch8SREJ_AQWlrYyzbw</td>\n",
       "    </tr>\n",
       "    <tr>\n",
       "      <th>62307</th>\n",
       "      <td>6/25/2008</td>\n",
       "      <td>tq5uYbYZfixh-OhWecufZg</td>\n",
       "      <td>WPRuJp0BhNdlgYXKZewpDg</td>\n",
       "      <td>This isn't bad ice cream - it's not like you'l...</td>\n",
       "      <td>2</td>\n",
       "      <td>0</td>\n",
       "      <td>0</td>\n",
       "      <td>0</td>\n",
       "      <td>YR</td>\n",
       "      <td>7Y2Yr5SbJfQ2oeKrpTeQBA</td>\n",
       "    </tr>\n",
       "    <tr>\n",
       "      <th>440225</th>\n",
       "      <td>2/2/2012</td>\n",
       "      <td>TRQU_S6Ik0SGs0URRab9QA</td>\n",
       "      <td>kY_GzlFxLkXK_2ln4l-l-A</td>\n",
       "      <td>This place is just good mexican food.  I eat h...</td>\n",
       "      <td>3</td>\n",
       "      <td>0</td>\n",
       "      <td>0</td>\n",
       "      <td>0</td>\n",
       "      <td>NR</td>\n",
       "      <td>JcQeF1bYTas28ewN0QotBQ</td>\n",
       "    </tr>\n",
       "    <tr>\n",
       "      <th>125323</th>\n",
       "      <td>7/13/2008</td>\n",
       "      <td>GG5hQ2_C_FjXO_IIPdsJmA</td>\n",
       "      <td>5QrgnLkqhduFMKfm66Aqog</td>\n",
       "      <td>Here's the deal people. I was really nervous t...</td>\n",
       "      <td>4</td>\n",
       "      <td>3</td>\n",
       "      <td>3</td>\n",
       "      <td>1</td>\n",
       "      <td>NR</td>\n",
       "      <td>_4hwlnlFzm7YDP1D81ecKw</td>\n",
       "    </tr>\n",
       "  </tbody>\n",
       "</table>\n",
       "</div>"
      ],
      "text/plain": [
       "             date                reviewID              reviewerID  \\\n",
       "529630  7/18/2012  IcQdGFX8cr5CrH_uiVsY1Q  lUAEesLvvNUAYqqkxLFpgQ   \n",
       "501344   7/4/2009  5Iy4e8qOh7WVoLtJ_sC21g  53tt0Msa4UqwtU_-JppHQQ   \n",
       "62307   6/25/2008  tq5uYbYZfixh-OhWecufZg  WPRuJp0BhNdlgYXKZewpDg   \n",
       "440225   2/2/2012  TRQU_S6Ik0SGs0URRab9QA  kY_GzlFxLkXK_2ln4l-l-A   \n",
       "125323  7/13/2008  GG5hQ2_C_FjXO_IIPdsJmA  5QrgnLkqhduFMKfm66Aqog   \n",
       "\n",
       "                                            reviewContent  rating  \\\n",
       "529630  Very huge assortment of unique burgers that we...       4   \n",
       "501344  I'd never heard of a Corner Bakery until a rec...       3   \n",
       "62307   This isn't bad ice cream - it's not like you'l...       2   \n",
       "440225  This place is just good mexican food.  I eat h...       3   \n",
       "125323  Here's the deal people. I was really nervous t...       4   \n",
       "\n",
       "        usefulCount  coolCount  funnyCount flagged                 hotelID  \n",
       "529630            0          0           0      NR  oCTlReyKjJxKPFYfCurxxQ  \n",
       "501344            0          0           0      NR  XA-Mch8SREJ_AQWlrYyzbw  \n",
       "62307             0          0           0      YR  7Y2Yr5SbJfQ2oeKrpTeQBA  \n",
       "440225            0          0           0      NR  JcQeF1bYTas28ewN0QotBQ  \n",
       "125323            3          3           1      NR  _4hwlnlFzm7YDP1D81ecKw  "
      ]
     },
     "execution_count": 123,
     "metadata": {},
     "output_type": "execute_result"
    }
   ],
   "source": [
    "#take a random sample of 100,000 observations\n",
    "small_df=reviews_df.sample(100000, random_state=17)\n",
    "small_df.head(5)"
   ]
  },
  {
   "cell_type": "markdown",
   "metadata": {},
   "source": [
    "The column that is of most interest is the 'reviewContent' column. As shown in the code chunk below, the length of some of the responses provided by reviewers is quite long:"
   ]
  },
  {
   "cell_type": "code",
   "execution_count": 124,
   "metadata": {},
   "outputs": [],
   "source": [
    "length=[]\n",
    "for i in small_df.reviewContent:\n",
    "    length.append(len(i))"
   ]
  },
  {
   "cell_type": "code",
   "execution_count": 125,
   "metadata": {},
   "outputs": [
    {
     "data": {
      "text/plain": [
       "4994"
      ]
     },
     "execution_count": 125,
     "metadata": {},
     "output_type": "execute_result"
    }
   ],
   "source": [
    "max(length)"
   ]
  },
  {
   "cell_type": "code",
   "execution_count": 126,
   "metadata": {},
   "outputs": [
    {
     "name": "stdout",
     "output_type": "stream",
     "text": [
      "Location: 4 out of 5 Bad news: it's on the Parkway in Pigeon Forge.  Good news: It's at the very end of the Parkway in Pigeon Forge.  That way, you can get a head start into the mountains.  To get to the main \"attractions\" and dining options, you'll have to take the trolley or use your car/motorcycle.  I'd recommend the trolley - it's quick and cheap, and has fairly regular service.   Cleanliness of Room: 2.5 out of 5 Ok, let's get the ugly out of the way first.  Nothing was in terrible or disgusting shape, but there were some visible signs of wear and tear that I think need to be addressed.  I stayed in 1114, and the predominant things I noticed were: the mesh screen that serves as a 'filter' for the AC/heat unit was riddled with lint and small gravel(?).  I don't have breathing problems, but I could imagine that if someone were more sensitive to dust, this could cause a problem.  The linoleum in the bathroom was in poor shape around the edges, as were the edges of the wallpaper in the bathroom.  The shower liner had a bit of a black line on it towards the bottom; it's hard to completely get rid of and it's clear they tried, but they could probably afford to replace them once in awhile, or just give them a really good cleaning.   The floors were nicely vacuumed, and the lady that took care of my room did a very neat job each day in the areas where she could.  Obviously, I don't expect her to patch up the wallpaper or be in charge of when and how to replace the shower liners and the AC unit mesh filter.  I left a comment card citing the mesh filter when I checked out.   Amenities of Room: 3 out of 5 Basic soap and shampoo.  Similar to what you'd find in a place like Motel 6, Super 8, or Microtel.  Lots of towels of different sizes, but a bit rough and scratchy (you know the feeling...).   There was a small mini fridge the room, and the TV was a tube-type one.  The sink for the room was actually just in the main room (as opposed to being in the bathroom) which is actually not a bad idea.  I noticed that the sink leaked a bit if the handle was turned all the way up, and left a note indicating as such when I checked out.  I mean...again, it's one of those things where if they just had a few slow weekdays in a row, they could just go in there and take care of the issues all at once.  I don't think it was gross negligence, I think it's just that this property funnels so many visitors that it's hard to get to small non-urgent things.   Amenities of Property: 4 out of 5 Free pancake breakfast consisting of 4 generously sized pancakes, butter, and syrup with coffee or juice is part of the rate.  Remember to tip your server at the pancake house for the full amount.  They give out free sweet tea and popcorn in the reception area.  The WiFi, when I went - was a bit spotty.  It would work alright for a few moments, and then glitch out.  I found that even when it was working, 3G was faster.  There is an outdoor pool, but for somewhat obvious reasons it is closed in October.   The public areas were very clean, and there is ample parking in the rear.  Which is important...because if you're riding a motorcycle, it's safer to park on a flat surface than an incline, and most of the parking spots in front of the property are at an incline, which could lead to hilarity/catastrophe later on. Price: 3.5 out of 5 With all taxes and fees, it came out to be 65 or 66 dollars a night, averaged over 3 nights..  Rates are lower during the week, and I had one weekend night rate and two week day rates.  In other words - if you go during the week and only during the week, it'll be cheaper.  Not terrible for what you get, and I'm sure that you can get a little nice of a hotel for more money; and you can maybe even get a little nicer of a hotel for less money.  But like I said, I'm not upset by the cost.   Customer Service: 5 out of 5 Fantastic customer service, capped off by how they treated me when I had to leave my motorcycle right beside the office for two days.  You see, I had a slight mishap while fueling (I did NOT crash on the Tail of the Dragon) right across the street at the BP, and broke off the switch assembly on the right hand side of my bike.  Well...I pushed it back to the Rodeway, and stuck it between two employee cars.  The managers were ok with it, and even on the morning when I called for a tow truck, one of the managers came out to make sure that I was ok and didn't need any additional help.  Everyone was genuinely kind and nice, and even when it was busy - they seemed to work quickly.  One young lady was even so gracious as to let me check in early because a room was already available.   Overall: 4 out of 5.  Yes, I rounded up, as I typically do.  This is a nice property, and if they could just spend a little effort in the \"off months\" to fix a few aesthetic and mechanical things, that would really add the extra something something to their already existing 1-2 punch of a great location and great customer service.\n"
     ]
    }
   ],
   "source": [
    "for i in small_df.reviewContent:\n",
    "    if len(i)==4994:\n",
    "        print(i)"
   ]
  },
  {
   "cell_type": "markdown",
   "metadata": {},
   "source": [
    "As you can see above, one reviewer provided a text response that has a length of 4994. Having multiple reviews that are as long as this makes it difficult for the pre-trained model method we are using to generate sentiment labels. This method wouldn't be able to generate a sentiment approximation for our entire sample of responses because it has a hard limit on the number of tokens allowed. See additional information about this here: https://medium.com/dair-ai/longformer-what-bert-should-have-been-78f4cd595be9 .\n",
    "\n",
    "To make things easier, we will further alter our dataframe to only include text responses that have a length that is less than 150. Again, filtering reponses does reduce the amount of information we can glean. However, since our goal is to simply compare performance with regards to star rating classification, this methodology will suffice."
   ]
  },
  {
   "cell_type": "code",
   "execution_count": 127,
   "metadata": {},
   "outputs": [
    {
     "data": {
      "text/html": [
       "<div>\n",
       "<style scoped>\n",
       "    .dataframe tbody tr th:only-of-type {\n",
       "        vertical-align: middle;\n",
       "    }\n",
       "\n",
       "    .dataframe tbody tr th {\n",
       "        vertical-align: top;\n",
       "    }\n",
       "\n",
       "    .dataframe thead th {\n",
       "        text-align: right;\n",
       "    }\n",
       "</style>\n",
       "<table border=\"1\" class=\"dataframe\">\n",
       "  <thead>\n",
       "    <tr style=\"text-align: right;\">\n",
       "      <th></th>\n",
       "      <th>date</th>\n",
       "      <th>reviewID</th>\n",
       "      <th>reviewerID</th>\n",
       "      <th>reviewContent</th>\n",
       "      <th>rating</th>\n",
       "      <th>usefulCount</th>\n",
       "      <th>coolCount</th>\n",
       "      <th>funnyCount</th>\n",
       "      <th>flagged</th>\n",
       "      <th>hotelID</th>\n",
       "      <th>length</th>\n",
       "    </tr>\n",
       "  </thead>\n",
       "  <tbody>\n",
       "    <tr>\n",
       "      <th>600935</th>\n",
       "      <td>2/5/2009</td>\n",
       "      <td>xLkWo-zszIfn77fjxDvOJA</td>\n",
       "      <td>gOPm2yoe38_OM6x4NIwLEw</td>\n",
       "      <td>Rich and delicious.</td>\n",
       "      <td>5</td>\n",
       "      <td>0</td>\n",
       "      <td>0</td>\n",
       "      <td>0</td>\n",
       "      <td>YR</td>\n",
       "      <td>OiP8yvkLXaygzWx8eQOimw</td>\n",
       "      <td>19</td>\n",
       "    </tr>\n",
       "    <tr>\n",
       "      <th>412071</th>\n",
       "      <td>Update - 8/27/2010</td>\n",
       "      <td>1O-_ynafQjzS2oX5cAkG0Q</td>\n",
       "      <td>TEHiUF-e8pa37rByg15MmA</td>\n",
       "      <td>Yay!  They expanded!</td>\n",
       "      <td>4</td>\n",
       "      <td>1</td>\n",
       "      <td>0</td>\n",
       "      <td>0</td>\n",
       "      <td>YR</td>\n",
       "      <td>nnImffGgWMtHb0R1affLEA</td>\n",
       "      <td>20</td>\n",
       "    </tr>\n",
       "    <tr>\n",
       "      <th>552252</th>\n",
       "      <td>Update - 12/29/2008</td>\n",
       "      <td>LBLER995DvIJBz2ZoUc6Eg</td>\n",
       "      <td>Un9kXZRrhnfdhaW33OwLFg</td>\n",
       "      <td>HA!  Closed - what did I tell you!</td>\n",
       "      <td>1</td>\n",
       "      <td>3</td>\n",
       "      <td>3</td>\n",
       "      <td>3</td>\n",
       "      <td>NR</td>\n",
       "      <td>MBYC7FzDkhTUnlwNX2Lj2Q</td>\n",
       "      <td>34</td>\n",
       "    </tr>\n",
       "    <tr>\n",
       "      <th>686275</th>\n",
       "      <td>8/20/2010</td>\n",
       "      <td>dqgxopruLGNkzOdTCQL_mQ</td>\n",
       "      <td>OMnge3tUQLvrnkW1uZNu5Q</td>\n",
       "      <td>awesome. croque madame is fantastic.</td>\n",
       "      <td>5</td>\n",
       "      <td>0</td>\n",
       "      <td>1</td>\n",
       "      <td>0</td>\n",
       "      <td>YR</td>\n",
       "      <td>afSsDoER6eHgBoiB8a0kUA</td>\n",
       "      <td>36</td>\n",
       "    </tr>\n",
       "    <tr>\n",
       "      <th>512523</th>\n",
       "      <td>11/2/2005</td>\n",
       "      <td>vv7nEANB1nAD5FKhwNXIMQ</td>\n",
       "      <td>Da_ZO8lKwIacljqKUJbAlw</td>\n",
       "      <td>best green iced tea ever!</td>\n",
       "      <td>5</td>\n",
       "      <td>0</td>\n",
       "      <td>0</td>\n",
       "      <td>0</td>\n",
       "      <td>YR</td>\n",
       "      <td>bI0djBt4exAWQQOxaVexDA</td>\n",
       "      <td>25</td>\n",
       "    </tr>\n",
       "  </tbody>\n",
       "</table>\n",
       "</div>"
      ],
      "text/plain": [
       "                       date                reviewID              reviewerID  \\\n",
       "600935             2/5/2009  xLkWo-zszIfn77fjxDvOJA  gOPm2yoe38_OM6x4NIwLEw   \n",
       "412071   Update - 8/27/2010  1O-_ynafQjzS2oX5cAkG0Q  TEHiUF-e8pa37rByg15MmA   \n",
       "552252  Update - 12/29/2008  LBLER995DvIJBz2ZoUc6Eg  Un9kXZRrhnfdhaW33OwLFg   \n",
       "686275            8/20/2010  dqgxopruLGNkzOdTCQL_mQ  OMnge3tUQLvrnkW1uZNu5Q   \n",
       "512523            11/2/2005  vv7nEANB1nAD5FKhwNXIMQ  Da_ZO8lKwIacljqKUJbAlw   \n",
       "\n",
       "                               reviewContent  rating  usefulCount  coolCount  \\\n",
       "600935                   Rich and delicious.       5            0          0   \n",
       "412071                  Yay!  They expanded!       4            1          0   \n",
       "552252    HA!  Closed - what did I tell you!       1            3          3   \n",
       "686275  awesome. croque madame is fantastic.       5            0          1   \n",
       "512523             best green iced tea ever!       5            0          0   \n",
       "\n",
       "        funnyCount flagged                 hotelID  length  \n",
       "600935           0      YR  OiP8yvkLXaygzWx8eQOimw      19  \n",
       "412071           0      YR  nnImffGgWMtHb0R1affLEA      20  \n",
       "552252           3      NR  MBYC7FzDkhTUnlwNX2Lj2Q      34  \n",
       "686275           0      YR  afSsDoER6eHgBoiB8a0kUA      36  \n",
       "512523           0      YR  bI0djBt4exAWQQOxaVexDA      25  "
      ]
     },
     "execution_count": 127,
     "metadata": {},
     "output_type": "execute_result"
    }
   ],
   "source": [
    "# remove reviews longer than 150 words \n",
    "small_df['length'] = small_df.reviewContent.str.len()\n",
    "small_df=small_df[small_df['length']<150]\n",
    "small_df.head()"
   ]
  },
  {
   "cell_type": "markdown",
   "metadata": {},
   "source": [
    "Let's explore the dataset :"
   ]
  },
  {
   "cell_type": "code",
   "execution_count": 128,
   "metadata": {},
   "outputs": [
    {
     "data": {
      "image/png": "[encoded data removed]",
      "text/plain": [
       "<Figure size 1000x700 with 4 Axes>"
      ]
     },
     "metadata": {
      "needs_background": "light"
     },
     "output_type": "display_data"
    },
    {
     "data": {
      "text/plain": [
       "<ggplot: (8785990946545)>"
      ]
     },
     "execution_count": 128,
     "metadata": {},
     "output_type": "execute_result"
    }
   ],
   "source": [
    "small_df_dist=small_df.filter(['rating', 'usefulCount', 'coolCount', 'funnyCount']).melt()\n",
    "(ggplot(small_df_dist, aes(x=\"value\")) + facet_wrap(\"variable\", scales=\"free_x\") +\n",
    "geom_bar(fill=\"steelblue\")+ theme_minimal()+theme(figure_size=(10,7),\n",
    "          subplots_adjust={'wspace':0.25,\n",
    "                           'hspace':0.75},\n",
    "         axis_text_x=element_text(rotation=45, hjust=1))+labs(x=\"\", y=\"\"))"
   ]
  },
  {
   "cell_type": "markdown",
   "metadata": {},
   "source": [
    "Although it is interesting to see that most reviews are not considered cool, funny, or useful , our main interest is the rating column. As we saw earlier, our corpus mainly consists of positive and neutral reviews. There are comparatively fewer negative reviews. "
   ]
  },
  {
   "cell_type": "markdown",
   "metadata": {},
   "source": [
    "For our design, we will opt to remove neutral ratings (i.e., reviews with a rating of 3). This way we can simply compare the two sentiment analysis methods based on their determination of negative (start rating of 1 or 2) vs. positive reviews (star rating of 4 or 5). "
   ]
  },
  {
   "cell_type": "code",
   "execution_count": 129,
   "metadata": {},
   "outputs": [],
   "source": [
    "#remove reviews with a rating of 3\n",
    "small_df = small_df[small_df[\"rating\"] != 3].reset_index()"
   ]
  },
  {
   "cell_type": "code",
   "execution_count": 130,
   "metadata": {},
   "outputs": [
    {
     "data": {
      "text/plain": [
       "(4995, 12)"
      ]
     },
     "execution_count": 130,
     "metadata": {},
     "output_type": "execute_result"
    }
   ],
   "source": [
    "small_df.shape"
   ]
  },
  {
   "cell_type": "code",
   "execution_count": 131,
   "metadata": {
    "scrolled": false
   },
   "outputs": [
    {
     "data": {
      "text/plain": [
       "4    2302\n",
       "5    1753\n",
       "2     518\n",
       "1     422\n",
       "Name: rating, dtype: int64"
      ]
     },
     "execution_count": 131,
     "metadata": {},
     "output_type": "execute_result"
    }
   ],
   "source": [
    "small_df['rating'].value_counts()"
   ]
  },
  {
   "cell_type": "markdown",
   "metadata": {},
   "source": [
    "## Methodology and Results"
   ]
  },
  {
   "cell_type": "markdown",
   "metadata": {},
   "source": [
    "### `Lexicon-based sentiment analysis with TextBlob`"
   ]
  },
  {
   "cell_type": "markdown",
   "metadata": {},
   "source": [
    "The first tool we will be using is TextBlob, a lexicon-based sentiment analysis tool. TextBlob uses rule-based decisions by using manually created dictionaries. Because we are using this method for sentiment analysis, each document in our corpus will be assigned a polarity and a subjectivity score. For our purpose, we will rely on the polarity score which has a range from -1 to 1, with -1 being negative and 1 being positive. We will start by looping through each document/review and supply the reviewContent column to the textblob model one at a time. This column contains actual text reviews. Our goal is to see how results from textblob compare to the numeric ratings provided by customers themselves. "
   ]
  },
  {
   "cell_type": "code",
   "execution_count": 132,
   "metadata": {},
   "outputs": [],
   "source": [
    "#list comprehension to loop through each text review and store results to a list object\n",
    "text_blob_results=[TextBlob(i).sentiment for i in small_df['reviewContent']]"
   ]
  },
  {
   "cell_type": "code",
   "execution_count": 133,
   "metadata": {},
   "outputs": [],
   "source": [
    "#convert list object to dataframe for easier viewing and data manipulation\n",
    "text_blob_results=pd.DataFrame(text_blob_results)"
   ]
  },
  {
   "cell_type": "code",
   "execution_count": 134,
   "metadata": {},
   "outputs": [],
   "source": [
    "#join text blob to sampled dataframe using the index; compare rating to polarity results from text blob.\n",
    "text_blob_results=text_blob_results.join(small_df)"
   ]
  },
  {
   "cell_type": "code",
   "execution_count": 135,
   "metadata": {},
   "outputs": [
    {
     "data": {
      "text/html": [
       "<div>\n",
       "<style scoped>\n",
       "    .dataframe tbody tr th:only-of-type {\n",
       "        vertical-align: middle;\n",
       "    }\n",
       "\n",
       "    .dataframe tbody tr th {\n",
       "        vertical-align: top;\n",
       "    }\n",
       "\n",
       "    .dataframe thead th {\n",
       "        text-align: right;\n",
       "    }\n",
       "</style>\n",
       "<table border=\"1\" class=\"dataframe\">\n",
       "  <thead>\n",
       "    <tr style=\"text-align: right;\">\n",
       "      <th></th>\n",
       "      <th>reviewContent</th>\n",
       "      <th>rating</th>\n",
       "      <th>polarity</th>\n",
       "    </tr>\n",
       "  </thead>\n",
       "  <tbody>\n",
       "    <tr>\n",
       "      <th>0</th>\n",
       "      <td>Rich and delicious.</td>\n",
       "      <td>5</td>\n",
       "      <td>0.6875</td>\n",
       "    </tr>\n",
       "    <tr>\n",
       "      <th>1</th>\n",
       "      <td>Yay!  They expanded!</td>\n",
       "      <td>4</td>\n",
       "      <td>0.0000</td>\n",
       "    </tr>\n",
       "    <tr>\n",
       "      <th>2</th>\n",
       "      <td>HA!  Closed - what did I tell you!</td>\n",
       "      <td>1</td>\n",
       "      <td>-0.1250</td>\n",
       "    </tr>\n",
       "    <tr>\n",
       "      <th>3</th>\n",
       "      <td>awesome. croque madame is fantastic.</td>\n",
       "      <td>5</td>\n",
       "      <td>0.7000</td>\n",
       "    </tr>\n",
       "    <tr>\n",
       "      <th>4</th>\n",
       "      <td>best green iced tea ever!</td>\n",
       "      <td>5</td>\n",
       "      <td>0.3750</td>\n",
       "    </tr>\n",
       "  </tbody>\n",
       "</table>\n",
       "</div>"
      ],
      "text/plain": [
       "                          reviewContent  rating  polarity\n",
       "0                   Rich and delicious.       5    0.6875\n",
       "1                  Yay!  They expanded!       4    0.0000\n",
       "2    HA!  Closed - what did I tell you!       1   -0.1250\n",
       "3  awesome. croque madame is fantastic.       5    0.7000\n",
       "4             best green iced tea ever!       5    0.3750"
      ]
     },
     "execution_count": 135,
     "metadata": {},
     "output_type": "execute_result"
    }
   ],
   "source": [
    "text_blob_results=text_blob_results.filter(['reviewContent', 'rating', 'polarity'])\n",
    "text_blob_results.head(5)"
   ]
  },
  {
   "cell_type": "code",
   "execution_count": 136,
   "metadata": {},
   "outputs": [
    {
     "name": "stderr",
     "output_type": "stream",
     "text": [
      "/Users/mkbelay/opt/anaconda3/lib/python3.8/site-packages/plotnine/stats/stat_bin.py:93: PlotnineWarning: 'stat_bin()' using 'bins = 34'. Pick better value with 'binwidth'.\n",
      "  warn(msg.format(params['bins']), PlotnineWarning)\n"
     ]
    },
    {
     "data": {
      "image/png": "[encoded data removed]",
      "text/plain": [
       "<Figure size 1000x700 with 4 Axes>"
      ]
     },
     "metadata": {
      "needs_background": "light"
     },
     "output_type": "display_data"
    },
    {
     "data": {
      "text/plain": [
       "<ggplot: (8786014075645)>"
      ]
     },
     "execution_count": 136,
     "metadata": {},
     "output_type": "execute_result"
    }
   ],
   "source": [
    "(ggplot(text_blob_results, aes(x=\"polarity\")) + facet_wrap(\"rating\", scales=\"free_x\") +\n",
    "geom_histogram(fill=\"steelblue\")+ theme_minimal()+ theme(figure_size=(10,7),\n",
    "          subplots_adjust={'wspace':0.25,\n",
    "                           'hspace':0.75},\n",
    "         axis_text_x=element_text(rotation=45, hjust=1))+labs(x=\"\", y=\"\"))+ labs(title=\"Comparing yelp star ratings to TextBlob polarity scores\")"
   ]
  },
  {
   "cell_type": "markdown",
   "metadata": {},
   "source": [
    "Looking at the plots above we can see that reviews with a star rating of 1 have polarity scores that are mostly negative (i.e, below 0). However, there are reviews that were actually given a positive polairty score despite haviing a star rating of 1. Also, there is a peak at about 0, indicating that about 100 responses with a star rating of 1 were determined to be 'neutral' reviews by TextBlob. Converesley, we see that there are far more 2-star rating reviews that were determined to be 'positive' based on TextBlobs assessment. Similar to 1-star rating reviews, there is peak at 0 indicating that TextBlob continues to think that certain 2-star reviews are actually netural. \n",
    "\n",
    "Moving on the 4 and 5 star reviews, we see that there is a pronounced skew, where a signficant number of reviews are catagorized as positive reviews by TextBlob. Although there are still reviews that were deemed to be negative by TextBlob, despite having positive star ratings. Interestingly, the peak at 0 polarity is evident in 4 and 5 star reviews as well. Let's take a closer look at these supposedly 'netural' reviews. "
   ]
  },
  {
   "cell_type": "code",
   "execution_count": 137,
   "metadata": {},
   "outputs": [
    {
     "data": {
      "text/html": [
       "<div>\n",
       "<style scoped>\n",
       "    .dataframe tbody tr th:only-of-type {\n",
       "        vertical-align: middle;\n",
       "    }\n",
       "\n",
       "    .dataframe tbody tr th {\n",
       "        vertical-align: top;\n",
       "    }\n",
       "\n",
       "    .dataframe thead th {\n",
       "        text-align: right;\n",
       "    }\n",
       "</style>\n",
       "<table border=\"1\" class=\"dataframe\">\n",
       "  <thead>\n",
       "    <tr style=\"text-align: right;\">\n",
       "      <th></th>\n",
       "      <th>reviewContent</th>\n",
       "      <th>rating</th>\n",
       "      <th>polarity</th>\n",
       "    </tr>\n",
       "  </thead>\n",
       "  <tbody>\n",
       "    <tr>\n",
       "      <th>1</th>\n",
       "      <td>Yay!  They expanded!</td>\n",
       "      <td>4</td>\n",
       "      <td>0.0</td>\n",
       "    </tr>\n",
       "    <tr>\n",
       "      <th>6</th>\n",
       "      <td>Hmm...</td>\n",
       "      <td>1</td>\n",
       "      <td>0.0</td>\n",
       "    </tr>\n",
       "    <tr>\n",
       "      <th>15</th>\n",
       "      <td>I like the different options that you have at ...</td>\n",
       "      <td>4</td>\n",
       "      <td>0.0</td>\n",
       "    </tr>\n",
       "    <tr>\n",
       "      <th>16</th>\n",
       "      <td>...sucks when you're housebound, studying for ...</td>\n",
       "      <td>2</td>\n",
       "      <td>0.0</td>\n",
       "    </tr>\n",
       "    <tr>\n",
       "      <th>54</th>\n",
       "      <td>I got take out pho from here once and had no c...</td>\n",
       "      <td>4</td>\n",
       "      <td>0.0</td>\n",
       "    </tr>\n",
       "    <tr>\n",
       "      <th>...</th>\n",
       "      <td>...</td>\n",
       "      <td>...</td>\n",
       "      <td>...</td>\n",
       "    </tr>\n",
       "    <tr>\n",
       "      <th>4966</th>\n",
       "      <td>I do not want to get audited so my stars are m...</td>\n",
       "      <td>1</td>\n",
       "      <td>0.0</td>\n",
       "    </tr>\n",
       "    <tr>\n",
       "      <th>4973</th>\n",
       "      <td>Like your song....... Gone too soon.......</td>\n",
       "      <td>5</td>\n",
       "      <td>0.0</td>\n",
       "    </tr>\n",
       "    <tr>\n",
       "      <th>4979</th>\n",
       "      <td>I've been to this bar!  Wasn't it on Lincoln A...</td>\n",
       "      <td>2</td>\n",
       "      <td>0.0</td>\n",
       "    </tr>\n",
       "    <tr>\n",
       "      <th>4984</th>\n",
       "      <td>the food is GROSS!!!</td>\n",
       "      <td>1</td>\n",
       "      <td>0.0</td>\n",
       "    </tr>\n",
       "    <tr>\n",
       "      <th>4992</th>\n",
       "      <td>This heb has everything!</td>\n",
       "      <td>5</td>\n",
       "      <td>0.0</td>\n",
       "    </tr>\n",
       "  </tbody>\n",
       "</table>\n",
       "<p>527 rows × 3 columns</p>\n",
       "</div>"
      ],
      "text/plain": [
       "                                          reviewContent  rating  polarity\n",
       "1                                  Yay!  They expanded!       4       0.0\n",
       "6                                                Hmm...       1       0.0\n",
       "15    I like the different options that you have at ...       4       0.0\n",
       "16    ...sucks when you're housebound, studying for ...       2       0.0\n",
       "54    I got take out pho from here once and had no c...       4       0.0\n",
       "...                                                 ...     ...       ...\n",
       "4966  I do not want to get audited so my stars are m...       1       0.0\n",
       "4973         Like your song....... Gone too soon.......       5       0.0\n",
       "4979  I've been to this bar!  Wasn't it on Lincoln A...       2       0.0\n",
       "4984                               the food is GROSS!!!       1       0.0\n",
       "4992                           This heb has everything!       5       0.0\n",
       "\n",
       "[527 rows x 3 columns]"
      ]
     },
     "execution_count": 137,
     "metadata": {},
     "output_type": "execute_result"
    }
   ],
   "source": [
    "text_blob_results[text_blob_results['polarity']==0]"
   ]
  },
  {
   "cell_type": "markdown",
   "metadata": {},
   "source": [
    "Looking at the sample of results above, we can clearly see that TextBlob has made some mistakes. For instance, the first review seems to be a very positive response and has a 4-star rating. However, TextBlob has given it a neutral polarity, thinking that this response is neither negative nor positive. If we did not have the star rating and simply relied on TextBlob, we would not be getting the right picture on how customers/reviewers feel about this specific establishment. Another interesting mistake is the polarity score assigned to the second to last review. The reviewer is clearly describing a negative feeling by stating that the food at an establishment is not pleasing. However, based on the manual dictionary it is based on, TextBlob determined that this review is neutral. If we did not have the star-rating and only relied on sentiment analysis via TextBlob, we would not be providing the most reliable representation of the reviewer's sentiment about the establishment. "
   ]
  },
  {
   "cell_type": "markdown",
   "metadata": {},
   "source": [
    "______"
   ]
  },
  {
   "cell_type": "markdown",
   "metadata": {},
   "source": [
    "## `Transfer learning with pre-trained models`"
   ]
  },
  {
   "cell_type": "markdown",
   "metadata": {},
   "source": [
    "Our second method will be using pre-trained models to determine the sentiment of yelp review by only looking at text responses, then comparing the outcome to the actual star rating provided by reviewers. Unlike TextBlob, transfer learning with pre-trained models does not rely on the strict approach of rule-based decision making. Instead, we will be using a pre-trained model that have accumulated knowledge by being trained on large amounts of data from the internet. These models will be able to glean knowledge by being exposed to the structure of the various sources of text from the interent. We will be using hugging face transformers, which is an API with a library of pre-trained models. Furthermore, unlike TextBlob, the pretrained model will label reviews as either negative or positive. There is no range as in TextBlob polarity scores."
   ]
  },
  {
   "cell_type": "code",
   "execution_count": 138,
   "metadata": {
    "scrolled": true
   },
   "outputs": [
    {
     "name": "stderr",
     "output_type": "stream",
     "text": [
      "No model was supplied, defaulted to distilbert-base-uncased-finetuned-sst-2-english (https://huggingface.co/distilbert-base-uncased-finetuned-sst-2-english)\n"
     ]
    }
   ],
   "source": [
    "#instantiate pipeline model object\n",
    "cls = pipeline(\"sentiment-analysis\")"
   ]
  },
  {
   "cell_type": "code",
   "execution_count": 139,
   "metadata": {},
   "outputs": [],
   "source": [
    "#loop through each review and supply it to the text-classification pipeline instantiated above\n",
    "transformers_results=[cls(i) for i in small_df['reviewContent']]"
   ]
  },
  {
   "cell_type": "code",
   "execution_count": 140,
   "metadata": {},
   "outputs": [
    {
     "data": {
      "text/plain": [
       "[[{'label': 'POSITIVE', 'score': 0.9998828172683716}],\n",
       " [{'label': 'POSITIVE', 'score': 0.9986914992332458}],\n",
       " [{'label': 'POSITIVE', 'score': 0.9227570295333862}],\n",
       " [{'label': 'POSITIVE', 'score': 0.9998838901519775}],\n",
       " [{'label': 'POSITIVE', 'score': 0.9998379945755005}]]"
      ]
     },
     "execution_count": 140,
     "metadata": {},
     "output_type": "execute_result"
    }
   ],
   "source": [
    "#quick preview of results \n",
    "transformers_results[0:5]"
   ]
  },
  {
   "cell_type": "markdown",
   "metadata": {},
   "source": [
    "Let's view the results as a dataframe and join the resulting dataframe to to inital corpus with the star-ratings:"
   ]
  },
  {
   "cell_type": "code",
   "execution_count": 141,
   "metadata": {},
   "outputs": [],
   "source": [
    "from itertools import chain"
   ]
  },
  {
   "cell_type": "code",
   "execution_count": 142,
   "metadata": {},
   "outputs": [
    {
     "data": {
      "text/html": [
       "<div>\n",
       "<style scoped>\n",
       "    .dataframe tbody tr th:only-of-type {\n",
       "        vertical-align: middle;\n",
       "    }\n",
       "\n",
       "    .dataframe tbody tr th {\n",
       "        vertical-align: top;\n",
       "    }\n",
       "\n",
       "    .dataframe thead th {\n",
       "        text-align: right;\n",
       "    }\n",
       "</style>\n",
       "<table border=\"1\" class=\"dataframe\">\n",
       "  <thead>\n",
       "    <tr style=\"text-align: right;\">\n",
       "      <th></th>\n",
       "      <th>label</th>\n",
       "      <th>score</th>\n",
       "    </tr>\n",
       "  </thead>\n",
       "  <tbody>\n",
       "    <tr>\n",
       "      <th>0</th>\n",
       "      <td>POSITIVE</td>\n",
       "      <td>0.999883</td>\n",
       "    </tr>\n",
       "    <tr>\n",
       "      <th>1</th>\n",
       "      <td>POSITIVE</td>\n",
       "      <td>0.998691</td>\n",
       "    </tr>\n",
       "    <tr>\n",
       "      <th>2</th>\n",
       "      <td>POSITIVE</td>\n",
       "      <td>0.922757</td>\n",
       "    </tr>\n",
       "    <tr>\n",
       "      <th>3</th>\n",
       "      <td>POSITIVE</td>\n",
       "      <td>0.999884</td>\n",
       "    </tr>\n",
       "    <tr>\n",
       "      <th>4</th>\n",
       "      <td>POSITIVE</td>\n",
       "      <td>0.999838</td>\n",
       "    </tr>\n",
       "    <tr>\n",
       "      <th>...</th>\n",
       "      <td>...</td>\n",
       "      <td>...</td>\n",
       "    </tr>\n",
       "    <tr>\n",
       "      <th>4990</th>\n",
       "      <td>POSITIVE</td>\n",
       "      <td>0.999877</td>\n",
       "    </tr>\n",
       "    <tr>\n",
       "      <th>4991</th>\n",
       "      <td>POSITIVE</td>\n",
       "      <td>0.999856</td>\n",
       "    </tr>\n",
       "    <tr>\n",
       "      <th>4992</th>\n",
       "      <td>POSITIVE</td>\n",
       "      <td>0.999426</td>\n",
       "    </tr>\n",
       "    <tr>\n",
       "      <th>4993</th>\n",
       "      <td>NEGATIVE</td>\n",
       "      <td>0.999727</td>\n",
       "    </tr>\n",
       "    <tr>\n",
       "      <th>4994</th>\n",
       "      <td>POSITIVE</td>\n",
       "      <td>0.999752</td>\n",
       "    </tr>\n",
       "  </tbody>\n",
       "</table>\n",
       "<p>4995 rows × 2 columns</p>\n",
       "</div>"
      ],
      "text/plain": [
       "         label     score\n",
       "0     POSITIVE  0.999883\n",
       "1     POSITIVE  0.998691\n",
       "2     POSITIVE  0.922757\n",
       "3     POSITIVE  0.999884\n",
       "4     POSITIVE  0.999838\n",
       "...        ...       ...\n",
       "4990  POSITIVE  0.999877\n",
       "4991  POSITIVE  0.999856\n",
       "4992  POSITIVE  0.999426\n",
       "4993  NEGATIVE  0.999727\n",
       "4994  POSITIVE  0.999752\n",
       "\n",
       "[4995 rows x 2 columns]"
      ]
     },
     "execution_count": 142,
     "metadata": {},
     "output_type": "execute_result"
    }
   ],
   "source": [
    "transformers_results=pd.DataFrame(list(chain.from_iterable(transformers_results)))\n",
    "transformers_results"
   ]
  },
  {
   "cell_type": "code",
   "execution_count": 143,
   "metadata": {},
   "outputs": [
    {
     "data": {
      "text/html": [
       "<div>\n",
       "<style scoped>\n",
       "    .dataframe tbody tr th:only-of-type {\n",
       "        vertical-align: middle;\n",
       "    }\n",
       "\n",
       "    .dataframe tbody tr th {\n",
       "        vertical-align: top;\n",
       "    }\n",
       "\n",
       "    .dataframe thead th {\n",
       "        text-align: right;\n",
       "    }\n",
       "</style>\n",
       "<table border=\"1\" class=\"dataframe\">\n",
       "  <thead>\n",
       "    <tr style=\"text-align: right;\">\n",
       "      <th></th>\n",
       "      <th>reviewContent</th>\n",
       "      <th>rating</th>\n",
       "      <th>label</th>\n",
       "      <th>score</th>\n",
       "    </tr>\n",
       "  </thead>\n",
       "  <tbody>\n",
       "    <tr>\n",
       "      <th>0</th>\n",
       "      <td>Rich and delicious.</td>\n",
       "      <td>5</td>\n",
       "      <td>POSITIVE</td>\n",
       "      <td>0.999883</td>\n",
       "    </tr>\n",
       "    <tr>\n",
       "      <th>1</th>\n",
       "      <td>Yay!  They expanded!</td>\n",
       "      <td>4</td>\n",
       "      <td>POSITIVE</td>\n",
       "      <td>0.998691</td>\n",
       "    </tr>\n",
       "    <tr>\n",
       "      <th>2</th>\n",
       "      <td>HA!  Closed - what did I tell you!</td>\n",
       "      <td>1</td>\n",
       "      <td>POSITIVE</td>\n",
       "      <td>0.922757</td>\n",
       "    </tr>\n",
       "    <tr>\n",
       "      <th>3</th>\n",
       "      <td>awesome. croque madame is fantastic.</td>\n",
       "      <td>5</td>\n",
       "      <td>POSITIVE</td>\n",
       "      <td>0.999884</td>\n",
       "    </tr>\n",
       "    <tr>\n",
       "      <th>4</th>\n",
       "      <td>best green iced tea ever!</td>\n",
       "      <td>5</td>\n",
       "      <td>POSITIVE</td>\n",
       "      <td>0.999838</td>\n",
       "    </tr>\n",
       "    <tr>\n",
       "      <th>...</th>\n",
       "      <td>...</td>\n",
       "      <td>...</td>\n",
       "      <td>...</td>\n",
       "      <td>...</td>\n",
       "    </tr>\n",
       "    <tr>\n",
       "      <th>4990</th>\n",
       "      <td>A real family jewel of Chicago. Excellent food...</td>\n",
       "      <td>4</td>\n",
       "      <td>POSITIVE</td>\n",
       "      <td>0.999877</td>\n",
       "    </tr>\n",
       "    <tr>\n",
       "      <th>4991</th>\n",
       "      <td>Great local Silverlake gastropub. Healthy, yet...</td>\n",
       "      <td>4</td>\n",
       "      <td>POSITIVE</td>\n",
       "      <td>0.999856</td>\n",
       "    </tr>\n",
       "    <tr>\n",
       "      <th>4992</th>\n",
       "      <td>This heb has everything!</td>\n",
       "      <td>5</td>\n",
       "      <td>POSITIVE</td>\n",
       "      <td>0.999426</td>\n",
       "    </tr>\n",
       "    <tr>\n",
       "      <th>4993</th>\n",
       "      <td>Dinner for two was over $100 and the portions ...</td>\n",
       "      <td>1</td>\n",
       "      <td>NEGATIVE</td>\n",
       "      <td>0.999727</td>\n",
       "    </tr>\n",
       "    <tr>\n",
       "      <th>4994</th>\n",
       "      <td>martini's on a friday after work? f'n amazing....</td>\n",
       "      <td>5</td>\n",
       "      <td>POSITIVE</td>\n",
       "      <td>0.999752</td>\n",
       "    </tr>\n",
       "  </tbody>\n",
       "</table>\n",
       "<p>4995 rows × 4 columns</p>\n",
       "</div>"
      ],
      "text/plain": [
       "                                          reviewContent  rating     label  \\\n",
       "0                                   Rich and delicious.       5  POSITIVE   \n",
       "1                                  Yay!  They expanded!       4  POSITIVE   \n",
       "2                    HA!  Closed - what did I tell you!       1  POSITIVE   \n",
       "3                  awesome. croque madame is fantastic.       5  POSITIVE   \n",
       "4                             best green iced tea ever!       5  POSITIVE   \n",
       "...                                                 ...     ...       ...   \n",
       "4990  A real family jewel of Chicago. Excellent food...       4  POSITIVE   \n",
       "4991  Great local Silverlake gastropub. Healthy, yet...       4  POSITIVE   \n",
       "4992                           This heb has everything!       5  POSITIVE   \n",
       "4993  Dinner for two was over $100 and the portions ...       1  NEGATIVE   \n",
       "4994  martini's on a friday after work? f'n amazing....       5  POSITIVE   \n",
       "\n",
       "         score  \n",
       "0     0.999883  \n",
       "1     0.998691  \n",
       "2     0.922757  \n",
       "3     0.999884  \n",
       "4     0.999838  \n",
       "...        ...  \n",
       "4990  0.999877  \n",
       "4991  0.999856  \n",
       "4992  0.999426  \n",
       "4993  0.999727  \n",
       "4994  0.999752  \n",
       "\n",
       "[4995 rows x 4 columns]"
      ]
     },
     "execution_count": 143,
     "metadata": {},
     "output_type": "execute_result"
    }
   ],
   "source": [
    "transformers_results=transformers_results.join(small_df).filter(['reviewContent', 'rating', 'label', 'score'])\n",
    "transformers_results"
   ]
  },
  {
   "cell_type": "code",
   "execution_count": 144,
   "metadata": {},
   "outputs": [
    {
     "name": "stderr",
     "output_type": "stream",
     "text": [
      "/Users/mkbelay/opt/anaconda3/lib/python3.8/site-packages/plotnine/utils.py:1246: FutureWarning: is_categorical is deprecated and will be removed in a future version.  Use is_categorical_dtype instead\n",
      "  if pdtypes.is_categorical(arr):\n"
     ]
    },
    {
     "data": {
      "image/png": "[encoded data removed]",
      "text/plain": [
       "<Figure size 1000x700 with 4 Axes>"
      ]
     },
     "metadata": {
      "needs_background": "light"
     },
     "output_type": "display_data"
    },
    {
     "data": {
      "text/plain": [
       "<ggplot: (8786088174445)>"
      ]
     },
     "execution_count": 144,
     "metadata": {},
     "output_type": "execute_result"
    }
   ],
   "source": [
    "(ggplot(transformers_results, aes(x=\"label\")) + facet_wrap(\"rating\", scales=\"free_x\") +\n",
    "geom_bar(fill=\"steelblue\")+ theme_minimal()+theme(figure_size=(10,7),\n",
    "          subplots_adjust={'wspace':0.25,\n",
    "                           'hspace':0.75},\n",
    "         axis_text_x=element_text(rotation=45, hjust=1))+labs(x=\"\", y=\"\"))"
   ]
  },
  {
   "cell_type": "markdown",
   "metadata": {},
   "source": [
    "Looking at the results above, we see that the pre-trained model we use has roughly similar patterns as the rule-based method. 1 and 2 star-ratings are mostly classified as negative, but there are still some reviews that have been classified as positive. The reverse is true with 4 and 5 star-ratings, where most reviews are classified as positive while a few are classified as negative. Let us look closely at the results to see where the mistakes are happening. "
   ]
  },
  {
   "cell_type": "code",
   "execution_count": 145,
   "metadata": {},
   "outputs": [
    {
     "data": {
      "text/html": [
       "<div>\n",
       "<style scoped>\n",
       "    .dataframe tbody tr th:only-of-type {\n",
       "        vertical-align: middle;\n",
       "    }\n",
       "\n",
       "    .dataframe tbody tr th {\n",
       "        vertical-align: top;\n",
       "    }\n",
       "\n",
       "    .dataframe thead th {\n",
       "        text-align: right;\n",
       "    }\n",
       "</style>\n",
       "<table border=\"1\" class=\"dataframe\">\n",
       "  <thead>\n",
       "    <tr style=\"text-align: right;\">\n",
       "      <th></th>\n",
       "      <th>reviewContent</th>\n",
       "      <th>rating</th>\n",
       "      <th>label</th>\n",
       "      <th>score</th>\n",
       "    </tr>\n",
       "  </thead>\n",
       "  <tbody>\n",
       "    <tr>\n",
       "      <th>18</th>\n",
       "      <td>Hand scoring? Excuse me? Does it GET ANY BETTE...</td>\n",
       "      <td>5</td>\n",
       "      <td>NEGATIVE</td>\n",
       "      <td>0.999652</td>\n",
       "    </tr>\n",
       "    <tr>\n",
       "      <th>30</th>\n",
       "      <td>Tons of xs clothes on dirt cheap sale! Go now!</td>\n",
       "      <td>5</td>\n",
       "      <td>NEGATIVE</td>\n",
       "      <td>0.995427</td>\n",
       "    </tr>\n",
       "    <tr>\n",
       "      <th>51</th>\n",
       "      <td>I would give Best Wurst 5 stars sober, so it's...</td>\n",
       "      <td>5</td>\n",
       "      <td>NEGATIVE</td>\n",
       "      <td>0.899951</td>\n",
       "    </tr>\n",
       "    <tr>\n",
       "      <th>72</th>\n",
       "      <td>Sad to say after 50 years in business they hav...</td>\n",
       "      <td>5</td>\n",
       "      <td>NEGATIVE</td>\n",
       "      <td>0.820195</td>\n",
       "    </tr>\n",
       "    <tr>\n",
       "      <th>82</th>\n",
       "      <td>If you go anywhere else in Greektown you are a...</td>\n",
       "      <td>5</td>\n",
       "      <td>NEGATIVE</td>\n",
       "      <td>0.990756</td>\n",
       "    </tr>\n",
       "    <tr>\n",
       "      <th>...</th>\n",
       "      <td>...</td>\n",
       "      <td>...</td>\n",
       "      <td>...</td>\n",
       "      <td>...</td>\n",
       "    </tr>\n",
       "    <tr>\n",
       "      <th>4812</th>\n",
       "      <td>Yummy indeed! Best place to get flan in Seattl...</td>\n",
       "      <td>5</td>\n",
       "      <td>NEGATIVE</td>\n",
       "      <td>0.995792</td>\n",
       "    </tr>\n",
       "    <tr>\n",
       "      <th>4864</th>\n",
       "      <td>if you want some healthy fast food, koo koo ro...</td>\n",
       "      <td>5</td>\n",
       "      <td>NEGATIVE</td>\n",
       "      <td>0.833421</td>\n",
       "    </tr>\n",
       "    <tr>\n",
       "      <th>4908</th>\n",
       "      <td>Ah, even though there's only 1 Dunkin Donuts i...</td>\n",
       "      <td>5</td>\n",
       "      <td>NEGATIVE</td>\n",
       "      <td>0.996116</td>\n",
       "    </tr>\n",
       "    <tr>\n",
       "      <th>4918</th>\n",
       "      <td>Garrett Popcorn Shops [from the 2008 Wine and ...</td>\n",
       "      <td>5</td>\n",
       "      <td>NEGATIVE</td>\n",
       "      <td>0.976236</td>\n",
       "    </tr>\n",
       "    <tr>\n",
       "      <th>4973</th>\n",
       "      <td>Like your song....... Gone too soon.......</td>\n",
       "      <td>5</td>\n",
       "      <td>NEGATIVE</td>\n",
       "      <td>0.999593</td>\n",
       "    </tr>\n",
       "  </tbody>\n",
       "</table>\n",
       "<p>248 rows × 4 columns</p>\n",
       "</div>"
      ],
      "text/plain": [
       "                                          reviewContent  rating     label  \\\n",
       "18    Hand scoring? Excuse me? Does it GET ANY BETTE...       5  NEGATIVE   \n",
       "30       Tons of xs clothes on dirt cheap sale! Go now!       5  NEGATIVE   \n",
       "51    I would give Best Wurst 5 stars sober, so it's...       5  NEGATIVE   \n",
       "72    Sad to say after 50 years in business they hav...       5  NEGATIVE   \n",
       "82    If you go anywhere else in Greektown you are a...       5  NEGATIVE   \n",
       "...                                                 ...     ...       ...   \n",
       "4812  Yummy indeed! Best place to get flan in Seattl...       5  NEGATIVE   \n",
       "4864  if you want some healthy fast food, koo koo ro...       5  NEGATIVE   \n",
       "4908  Ah, even though there's only 1 Dunkin Donuts i...       5  NEGATIVE   \n",
       "4918  Garrett Popcorn Shops [from the 2008 Wine and ...       5  NEGATIVE   \n",
       "4973         Like your song....... Gone too soon.......       5  NEGATIVE   \n",
       "\n",
       "         score  \n",
       "18    0.999652  \n",
       "30    0.995427  \n",
       "51    0.899951  \n",
       "72    0.820195  \n",
       "82    0.990756  \n",
       "...        ...  \n",
       "4812  0.995792  \n",
       "4864  0.833421  \n",
       "4908  0.996116  \n",
       "4918  0.976236  \n",
       "4973  0.999593  \n",
       "\n",
       "[248 rows x 4 columns]"
      ]
     },
     "execution_count": 145,
     "metadata": {},
     "output_type": "execute_result"
    }
   ],
   "source": [
    "#extract 5-star ratings with a negative label\n",
    "transformers_results[(transformers_results['rating']==5) & (transformers_results['label']==\"NEGATIVE\")]"
   ]
  },
  {
   "cell_type": "code",
   "execution_count": 146,
   "metadata": {},
   "outputs": [
    {
     "data": {
      "text/plain": [
       "array([['Hand scoring? Excuse me? Does it GET ANY BETTER?!?!?! I think not.',\n",
       "        5, 'NEGATIVE', 0.9996517896652222],\n",
       "       ['Tons of xs clothes on dirt cheap sale! Go now!', 5, 'NEGATIVE',\n",
       "        0.9954273700714111],\n",
       "       [\"I would give Best Wurst 5 stars sober, so it's like eleventy stars after a night out on 6th. \\xa0Reason #385 I miss Austin.\",\n",
       "        5, 'NEGATIVE', 0.8999512791633606],\n",
       "       ['Sad to say after 50 years in business they have closed there doors.... you guys will be missed, good luck in the future were ever it may take you all',\n",
       "        5, 'NEGATIVE', 0.820194661617279],\n",
       "       ['If you go anywhere else in Greektown you are a suckah. Trust me--I know. Except maybe Santoirini is better for seafood. Nuf said.',\n",
       "        5, 'NEGATIVE', 0.990756094455719]], dtype=object)"
      ]
     },
     "execution_count": 146,
     "metadata": {},
     "output_type": "execute_result"
    }
   ],
   "source": [
    "np.array(transformers_results[(transformers_results['rating']==5) & (transformers_results['label']==\"NEGATIVE\")])[0:5]"
   ]
  },
  {
   "cell_type": "markdown",
   "metadata": {},
   "source": [
    "We can see that the pre-trained model we used labeled the first review above (which is a very positive review) as being negative and it even assigned the label a high score. The same can be said for the other reviews previewed in the above code chunk."
   ]
  },
  {
   "cell_type": "markdown",
   "metadata": {},
   "source": [
    "To compare the models, let us look at how many mistakes they made in assessing the sentiment of extreme ratings (i.e. 1-star and 5-star ratings). "
   ]
  },
  {
   "cell_type": "code",
   "execution_count": 147,
   "metadata": {},
   "outputs": [
    {
     "data": {
      "text/html": [
       "<div>\n",
       "<style scoped>\n",
       "    .dataframe tbody tr th:only-of-type {\n",
       "        vertical-align: middle;\n",
       "    }\n",
       "\n",
       "    .dataframe tbody tr th {\n",
       "        vertical-align: top;\n",
       "    }\n",
       "\n",
       "    .dataframe thead th {\n",
       "        text-align: right;\n",
       "    }\n",
       "</style>\n",
       "<table border=\"1\" class=\"dataframe\">\n",
       "  <thead>\n",
       "    <tr style=\"text-align: right;\">\n",
       "      <th></th>\n",
       "      <th>reviewContent_left</th>\n",
       "      <th>rating_left</th>\n",
       "      <th>polarity</th>\n",
       "      <th>reviewContent_right</th>\n",
       "      <th>rating_right</th>\n",
       "      <th>label</th>\n",
       "      <th>score</th>\n",
       "    </tr>\n",
       "  </thead>\n",
       "  <tbody>\n",
       "    <tr>\n",
       "      <th>0</th>\n",
       "      <td>Rich and delicious.</td>\n",
       "      <td>5</td>\n",
       "      <td>0.687500</td>\n",
       "      <td>Rich and delicious.</td>\n",
       "      <td>5</td>\n",
       "      <td>POSITIVE</td>\n",
       "      <td>0.999883</td>\n",
       "    </tr>\n",
       "    <tr>\n",
       "      <th>1</th>\n",
       "      <td>Yay!  They expanded!</td>\n",
       "      <td>4</td>\n",
       "      <td>0.000000</td>\n",
       "      <td>Yay!  They expanded!</td>\n",
       "      <td>4</td>\n",
       "      <td>POSITIVE</td>\n",
       "      <td>0.998691</td>\n",
       "    </tr>\n",
       "    <tr>\n",
       "      <th>2</th>\n",
       "      <td>HA!  Closed - what did I tell you!</td>\n",
       "      <td>1</td>\n",
       "      <td>-0.125000</td>\n",
       "      <td>HA!  Closed - what did I tell you!</td>\n",
       "      <td>1</td>\n",
       "      <td>POSITIVE</td>\n",
       "      <td>0.922757</td>\n",
       "    </tr>\n",
       "    <tr>\n",
       "      <th>3</th>\n",
       "      <td>awesome. croque madame is fantastic.</td>\n",
       "      <td>5</td>\n",
       "      <td>0.700000</td>\n",
       "      <td>awesome. croque madame is fantastic.</td>\n",
       "      <td>5</td>\n",
       "      <td>POSITIVE</td>\n",
       "      <td>0.999884</td>\n",
       "    </tr>\n",
       "    <tr>\n",
       "      <th>4</th>\n",
       "      <td>best green iced tea ever!</td>\n",
       "      <td>5</td>\n",
       "      <td>0.375000</td>\n",
       "      <td>best green iced tea ever!</td>\n",
       "      <td>5</td>\n",
       "      <td>POSITIVE</td>\n",
       "      <td>0.999838</td>\n",
       "    </tr>\n",
       "    <tr>\n",
       "      <th>...</th>\n",
       "      <td>...</td>\n",
       "      <td>...</td>\n",
       "      <td>...</td>\n",
       "      <td>...</td>\n",
       "      <td>...</td>\n",
       "      <td>...</td>\n",
       "      <td>...</td>\n",
       "    </tr>\n",
       "    <tr>\n",
       "      <th>4990</th>\n",
       "      <td>A real family jewel of Chicago. Excellent food...</td>\n",
       "      <td>4</td>\n",
       "      <td>0.600000</td>\n",
       "      <td>A real family jewel of Chicago. Excellent food...</td>\n",
       "      <td>4</td>\n",
       "      <td>POSITIVE</td>\n",
       "      <td>0.999877</td>\n",
       "    </tr>\n",
       "    <tr>\n",
       "      <th>4991</th>\n",
       "      <td>Great local Silverlake gastropub. Healthy, yet...</td>\n",
       "      <td>4</td>\n",
       "      <td>0.575000</td>\n",
       "      <td>Great local Silverlake gastropub. Healthy, yet...</td>\n",
       "      <td>4</td>\n",
       "      <td>POSITIVE</td>\n",
       "      <td>0.999856</td>\n",
       "    </tr>\n",
       "    <tr>\n",
       "      <th>4992</th>\n",
       "      <td>This heb has everything!</td>\n",
       "      <td>5</td>\n",
       "      <td>0.000000</td>\n",
       "      <td>This heb has everything!</td>\n",
       "      <td>5</td>\n",
       "      <td>POSITIVE</td>\n",
       "      <td>0.999426</td>\n",
       "    </tr>\n",
       "    <tr>\n",
       "      <th>4993</th>\n",
       "      <td>Dinner for two was over $100 and the portions ...</td>\n",
       "      <td>1</td>\n",
       "      <td>-0.472917</td>\n",
       "      <td>Dinner for two was over $100 and the portions ...</td>\n",
       "      <td>1</td>\n",
       "      <td>NEGATIVE</td>\n",
       "      <td>0.999727</td>\n",
       "    </tr>\n",
       "    <tr>\n",
       "      <th>4994</th>\n",
       "      <td>martini's on a friday after work? f'n amazing....</td>\n",
       "      <td>5</td>\n",
       "      <td>0.550000</td>\n",
       "      <td>martini's on a friday after work? f'n amazing....</td>\n",
       "      <td>5</td>\n",
       "      <td>POSITIVE</td>\n",
       "      <td>0.999752</td>\n",
       "    </tr>\n",
       "  </tbody>\n",
       "</table>\n",
       "<p>4995 rows × 7 columns</p>\n",
       "</div>"
      ],
      "text/plain": [
       "                                     reviewContent_left  rating_left  \\\n",
       "0                                   Rich and delicious.            5   \n",
       "1                                  Yay!  They expanded!            4   \n",
       "2                    HA!  Closed - what did I tell you!            1   \n",
       "3                  awesome. croque madame is fantastic.            5   \n",
       "4                             best green iced tea ever!            5   \n",
       "...                                                 ...          ...   \n",
       "4990  A real family jewel of Chicago. Excellent food...            4   \n",
       "4991  Great local Silverlake gastropub. Healthy, yet...            4   \n",
       "4992                           This heb has everything!            5   \n",
       "4993  Dinner for two was over $100 and the portions ...            1   \n",
       "4994  martini's on a friday after work? f'n amazing....            5   \n",
       "\n",
       "      polarity                                reviewContent_right  \\\n",
       "0     0.687500                                Rich and delicious.   \n",
       "1     0.000000                               Yay!  They expanded!   \n",
       "2    -0.125000                 HA!  Closed - what did I tell you!   \n",
       "3     0.700000               awesome. croque madame is fantastic.   \n",
       "4     0.375000                          best green iced tea ever!   \n",
       "...        ...                                                ...   \n",
       "4990  0.600000  A real family jewel of Chicago. Excellent food...   \n",
       "4991  0.575000  Great local Silverlake gastropub. Healthy, yet...   \n",
       "4992  0.000000                           This heb has everything!   \n",
       "4993 -0.472917  Dinner for two was over $100 and the portions ...   \n",
       "4994  0.550000  martini's on a friday after work? f'n amazing....   \n",
       "\n",
       "      rating_right     label     score  \n",
       "0                5  POSITIVE  0.999883  \n",
       "1                4  POSITIVE  0.998691  \n",
       "2                1  POSITIVE  0.922757  \n",
       "3                5  POSITIVE  0.999884  \n",
       "4                5  POSITIVE  0.999838  \n",
       "...            ...       ...       ...  \n",
       "4990             4  POSITIVE  0.999877  \n",
       "4991             4  POSITIVE  0.999856  \n",
       "4992             5  POSITIVE  0.999426  \n",
       "4993             1  NEGATIVE  0.999727  \n",
       "4994             5  POSITIVE  0.999752  \n",
       "\n",
       "[4995 rows x 7 columns]"
      ]
     },
     "execution_count": 147,
     "metadata": {},
     "output_type": "execute_result"
    }
   ],
   "source": [
    "#combine results from both models\n",
    "combined_df=text_blob_results.join(transformers_results, how='left', lsuffix='_left', rsuffix='_right')\n",
    "combined_df"
   ]
  },
  {
   "cell_type": "markdown",
   "metadata": {},
   "source": [
    "Below we will calculate the share of 1-star and 5-star ratings that were mislabeled by both methods:"
   ]
  },
  {
   "cell_type": "markdown",
   "metadata": {},
   "source": [
    "`One-star review mislabeling by transfer learning method`"
   ]
  },
  {
   "cell_type": "code",
   "execution_count": 148,
   "metadata": {},
   "outputs": [
    {
     "data": {
      "text/plain": [
       "13.744075829383887"
      ]
     },
     "execution_count": 148,
     "metadata": {},
     "output_type": "execute_result"
    }
   ],
   "source": [
    "(combined_df[(combined_df['rating_left']== 1) & (combined_df['label']=='POSITIVE')].shape[0]/combined_df[(combined_df['rating_left']== 1)].shape[0])*100"
   ]
  },
  {
   "cell_type": "markdown",
   "metadata": {},
   "source": [
    "`Five-star review mislabeling by transfer learning method`"
   ]
  },
  {
   "cell_type": "code",
   "execution_count": 149,
   "metadata": {},
   "outputs": [
    {
     "data": {
      "text/plain": [
       "14.147176269252709"
      ]
     },
     "execution_count": 149,
     "metadata": {},
     "output_type": "execute_result"
    }
   ],
   "source": [
    "(combined_df[(combined_df['rating_left']== 5) & (combined_df['label']=='NEGATIVE')].shape[0]/combined_df[(combined_df['rating_left']== 5)].shape[0])*100"
   ]
  },
  {
   "cell_type": "markdown",
   "metadata": {},
   "source": [
    "`One-star review mislabeling by lexicon-based method`"
   ]
  },
  {
   "cell_type": "code",
   "execution_count": 150,
   "metadata": {},
   "outputs": [
    {
     "data": {
      "text/plain": [
       "22.03791469194313"
      ]
     },
     "execution_count": 150,
     "metadata": {},
     "output_type": "execute_result"
    }
   ],
   "source": [
    "(combined_df[(combined_df['rating_left']== 1) & (combined_df['polarity']>0)].shape[0]/combined_df[(combined_df['rating_left']== 1)].shape[0])*100"
   ]
  },
  {
   "cell_type": "markdown",
   "metadata": {},
   "source": [
    "`Five-star review mislabeling by lexicon-based method`"
   ]
  },
  {
   "cell_type": "code",
   "execution_count": 151,
   "metadata": {
    "scrolled": true
   },
   "outputs": [
    {
     "data": {
      "text/plain": [
       "5.989731888191671"
      ]
     },
     "execution_count": 151,
     "metadata": {},
     "output_type": "execute_result"
    }
   ],
   "source": [
    "(combined_df[(combined_df['rating_left']== 5) & (combined_df['polarity']<0)].shape[0]/combined_df[(combined_df['rating_left']== 5)].shape[0])*100"
   ]
  },
  {
   "cell_type": "markdown",
   "metadata": {},
   "source": [
    "### Conclusion"
   ]
  },
  {
   "cell_type": "markdown",
   "metadata": {},
   "source": [
    "Looking at the results above, we can see that the lexicon-based approach misclassified one-star reviews more often than the transfer learning with pre-trained model approach. Converesley, the transfer learning approach misclassified five-star reviews more often than the lexicon-based approach. \n",
    "\n",
    "In the context of our original question (i.e., can we replace star-rating by either lexicon-based and transfer learning with pre-trained model approaches?), our results show that replacing star-ratings by these methods is not advisable. Although these methods use different strategies to analyze sentiment, they both rely on methodologies that were creating based on the assumptions and decisions of a select number of decision makers. With regards to lexicon-based sentiment analysis, the researchers who design the dictionary are the ones that decide the weight assigned to words. Language is constantly changing, calling into question the effectiveness of such a strict methodology to fully capture the feeling of yelp reviewers. Additionally, the transfer learning approach uses pre-trained models that were trained with text that could be riddled with various unethical and improper training data. As it stands today, we have no certainity about the type of auditing measures emplyed on these data sources that are being use to pre-train models for sentiment analysis. Although these methods do offer some insights, we can not forget that they are desinged based on assumptions. As we saw above, some of the mistakes being made blatantly misclassify reviews at times with what the model sees as high certainity/scores. All in all, i do not think that these methods are good enough to replace star-ratings. Most importantly, the star-ratings allow users to quantify their own perspective, which i think is a far more valuable insight that relying on crude methods like lexicon-based decision making or methods withouts enough oversight like pre-trained models. If we wish to derive insight about users, the star-ratings should remain."
   ]
  },
  {
   "cell_type": "code",
   "execution_count": null,
   "metadata": {},
   "outputs": [],
   "source": []
  }
 ],
 "metadata": {
  "kernelspec": {
   "display_name": "Python 3",
   "language": "python",
   "name": "python3"
  },
  "language_info": {
   "codemirror_mode": {
    "name": "ipython",
    "version": 3
   },
   "file_extension": ".py",
   "mimetype": "text/x-python",
   "name": "python",
   "nbconvert_exporter": "python",
   "pygments_lexer": "ipython3",
   "version": "3.8.2"
  }
 },
 "nbformat": 4,
 "nbformat_minor": 4
}
